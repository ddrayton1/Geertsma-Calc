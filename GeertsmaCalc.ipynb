{
 "cells": [
  {
   "cell_type": "markdown",
   "id": "d50ef990-7e83-492b-929d-744bc6454b07",
   "metadata": {},
   "source": [
    "### Reservoir compaction and subsidence\n",
    "\n",
    "This script can be used to calculate the reservoir compaction and surface subsidence generated when depleting a reservoir. This python notebook follows the __[subsidence workflow document](https://statoilsrm.sharepoint.com/sites/RockMechanicsENGDCIRM/Shared%20Documents/Geomechanical%20modelling,%20DE4RM,%20etc/Best%20practice%20and%20workflow/Subsidence%20workflow.docx?web=1)__.\n",
    "\n",
    "***"
   ]
  },
  {
   "cell_type": "code",
   "execution_count": 1,
   "id": "b2e2e007",
   "metadata": {
    "extensions": {
     "jupyter_dashboards": {
      "version": 1,
      "views": {
       "default_view": {
        "hidden": true
       }
      }
     }
    }
   },
   "outputs": [],
   "source": [
    "#import libraries\n",
    "import pandas as pd\n",
    "import matplotlib.pyplot as plt\n",
    "import matplotlib as mpl\n",
    "import numpy as np\n",
    "import math\n",
    "import datetime\n",
    "from datetime import datetime\n",
    "import os.path\n",
    "import ipywidgets as widgets\n",
    "from ipywidgets import Box,TwoByTwoLayout,GridspecLayout,Button, Layout, interactive,GridBox,ButtonStyle\n",
    "import sys\n",
    "import os\n",
    "from IPython.display import display, HTML\n",
    "import mpl_interactions.ipyplot as iplt\n",
    "import functools"
   ]
  },
  {
   "cell_type": "code",
   "execution_count": 2,
   "id": "56e21d20",
   "metadata": {
    "extensions": {
     "jupyter_dashboards": {
      "version": 1,
      "views": {
       "default_view": {
        "hidden": true
       }
      }
     }
    }
   },
   "outputs": [],
   "source": [
    "# create input widgets\n",
    "# set widget style\n",
    "style = {'description_width':'initial'}\n",
    "\n",
    "#widget for each user input\n",
    "TR = widgets.BoundedFloatText(value=1734,min=0,max=10000,step=10,description='Top Reservoir (TVDMSL):',style=style,disabled=False)\n",
    "BR = widgets.BoundedFloatText(value=1771,min=0,max=10000,step=10,description='Base Reservoir (TVDMSL):',style=style,disabled=False)\n",
    "NGw = widgets.BoundedFloatText(value=0.88,min=0,max=1,step=0.1,description='NTG (fraction):',style=style,disabled=False)\n",
    "WD = widgets.BoundedFloatText(value=127,min=0,max=10000,step=10,description='Water depth (m):',style=style,disabled=False)\n",
    "RR = widgets.BoundedFloatText(value=3500,min=0,max=10000,step=100,description='Reservoir radius (m):',style=style,disabled=False)\n",
    "D = widgets.BoundedFloatText(value=13.2,min=0,max=10000,step=10,description='Depletion (MPa):',style=style,disabled=False)\n",
    "nuw = widgets.BoundedFloatText(value=0.29,min=0,max=1,step=0.01,description='Poissons Ratio (bar):',style=style,disabled=False)\n",
    "Ew = widgets.BoundedFloatText(value=7.9,min=0,max=10000,step=1,description='Youngs Modulus (GPa):',style=style,disabled=False)\n",
    "e = widgets.BoundedFloatText(value=8000,min=0,max=10000,step=1000,description='End of data range (m):',style=style,disabled=False)\n",
    "intv = widgets.BoundedFloatText(value=100,min=0,max=1000,step=10,description='Data interval (m):',style=style,disabled=False)\n",
    "ProjectName =  widgets.Text(value='Project1',placeholder='Type project name',description='Project Name:',style=style,disabled=False)\n",
    "File = widgets.Text(value=r\"C:\\Users\\dld\\Downloads\",placeholder='Type File Path',description='File Path:',style=style,disabled=False)"
   ]
  },
  {
   "cell_type": "code",
   "execution_count": 3,
   "id": "f291f81d",
   "metadata": {
    "extensions": {
     "jupyter_dashboards": {
      "version": 1,
      "views": {
       "default_view": {
        "hidden": true
       }
      }
     }
    }
   },
   "outputs": [],
   "source": [
    "# function to calculate single variables (prints calculated variables)\n",
    "def RT(TR,BR,NGw,WD,Ew,nuw,RR):\n",
    "    RT = (BR-TR)*NGw\n",
    "    OB = TR-WD\n",
    "    K = Ew/(3*(1-2*nuw))\n",
    "    C = OB/RR\n",
    "    M = (Ew*(1-nuw))/((1-(2*nuw))*(1+nuw))\n",
    "    B = 1-(K/37)\n",
    "    Cm = 1/M/1000*B\n",
    "    \n",
    "    print('Reservoir thickness = {} m'.format(\"{:.2f}\".format(RT))),\n",
    "    print('Overburden thickness = {} m'.format(\"{:.2f}\".format(OB))),\n",
    "    print('Bulk Modulus, K = {} GPa'.format(\"{:.2f}\".format(K))),\n",
    "    print('Depth/radius ratio, C = {}'.format(\"{:.2f}\".format(C))),\n",
    "    print('Uniaxial compaction Modulus, M = {} GPa'.format(\"{:.2f}\".format(M))),\n",
    "    print('Biot coefficient = {}'.format(\"{:.2f}\".format(B))),\n",
    "    print('Compaction coefficient, Cm = {}'.format(\"{:0.2e}\".format(Cm)))\n",
    "\n",
    "# function to create a dataframe of all input variables (included calculated) - this is included in the exported file.\n",
    "def variables(TR,BR,NGw,WD,Ew,nuw,RR,D):\n",
    "    RT = (BR-TR)*NGw\n",
    "    OB = TR-WD\n",
    "    K = Ew/(3*(1-2*nuw))\n",
    "    C = OB/RR\n",
    "    M = (Ew*(1-nuw))/((1-(2*nuw))*(1+nuw))\n",
    "    B = 1-(K/37)\n",
    "    Cm = 1/M/1000*B\n",
    "    \n",
    "    Calc_variables = [['Top reservoir', TR,'mTVD'], \n",
    "              ['Base reservoir', BR,'mTVD'], \n",
    "              ['Reservoir thickness', RT,'m'], \n",
    "              ['N/G', NGw,'fraction'], \n",
    "              ['Water Depth', WD,'m'],\n",
    "              ['OB thickness', OB,'m'],\n",
    "              ['Reservoir radius', RR,'m'],\n",
    "              ['C (depth/radius)', C,'fraction'],\n",
    "              ['Depletion', D,'MPa'],\n",
    "              ['Poissons ratio', nuw,''],\n",
    "              ['Youngs Modulus, E', Ew,'GPa'],\n",
    "              ['Bulk Modulus, K', K, 'GPa'],\n",
    "              ['Uniaxial Compaction Modulus, M', M,'GPa'],\n",
    "              ['Biot', B,''],\n",
    "              ['Cm', Cm,'MPa^-1']]\n",
    "    df_var = pd.DataFrame(Calc_variables, columns=['Input variable','value','units'])\n",
    "    return df_var"
   ]
  },
  {
   "cell_type": "code",
   "execution_count": 4,
   "id": "6e8eaeb9",
   "metadata": {
    "extensions": {
     "jupyter_dashboards": {
      "version": 1,
      "views": {
       "default_view": {
        "hidden": true
       }
      }
     }
    },
    "slideshow": {
     "slide_type": ""
    },
    "tags": []
   },
   "outputs": [],
   "source": [
    "# Main function to calculate geertsma compaction/subsidence\n",
    "def geertsma(Base_res, Top_res, NG, Water_depth, E, nu, Reservoir_radius,e,intv, Depletion):\n",
    "    Res_thickness = (Base_res-Top_res)*NG\n",
    "    OB = Top_res-Water_depth\n",
    "    K = E/(3*(1-2*nu))\n",
    "    C = OB/Reservoir_radius\n",
    "    M = (E*(1-nu))/((1-(2*nu))*(1+nu))\n",
    "    B = 1-(K/37)\n",
    "    Cm = 1/M/1000*B\n",
    "    \n",
    "    # create dataframe for a range of data points defined by the water depth (first depth) and depth of interest (number of data points controlled by input intv)\n",
    "    df_results = pd.DataFrame((np.arange(Water_depth,e,intv)), columns=['Depth'])   \n",
    "    df_results['Z (m)'] = ((df_results['Depth']) - Water_depth)/Top_res    # Creating normalised depth\n",
    "    \n",
    "    #creating conditions to asign data to OB, UB or reservoir\n",
    "    conditions = [\n",
    "        (df_results['Depth'] < Top_res),\n",
    "        (df_results['Depth'] >= Top_res) & (df_results['Depth'] <= Base_res),\n",
    "        (df_results['Depth'] > Base_res)\n",
    "        ]\n",
    "    df_results['definition'] = np.select(conditions, ['Overburden','Reservoir','Underburden'])   # defining data points as either overburden, reservoir and underburden\n",
    "    \n",
    "    # Calculation of Uz (broken into smaller componants)\n",
    "    Z = df_results['Z (m)']\n",
    "    a = (Cm/2)*Res_thickness*Depletion*B\n",
    "    b = (C*(Z-1))/pow(1+C*C*(Z-1)*(Z-1),(1/2))\n",
    "    c = ((3-(4*nu))*C*(Z+1))/pow(1+C*C*(Z+1)*(Z+1),(1/2))\n",
    "    d = (2*C*Z)/pow((1+C*C*(Z+1)*(Z+1)),(3/2))\n",
    "    e_OB = 3-(4*nu)+1   # +1 used if overburden\n",
    "    e_UB = 3-(4*nu)-1   # -1 used if underburden\n",
    "    conditions = [\n",
    "        (df_results['definition'] == 'Overburden'),\n",
    "        (df_results['definition'] == 'Reservoir'),\n",
    "        (df_results['definition'] == 'Underburden')\n",
    "        ]\n",
    "    Uz_OB = a*(b-c+d+e_OB)\n",
    "    Uz_UB = a*(b-c+d+e_UB)\n",
    "    df_results['Uz (m)'] = np.select(conditions, [Uz_OB,Uz_OB,Uz_UB])   # calculation of Uz\n",
    "    df_results['Uz (cm)'] = df_results['Uz (m)'] * 100\n",
    "    Uz_end = df_results['Uz (m)'].iloc[-1]    # Extracting the end Uz value\n",
    "    df_results['Vertical displacement (m)'] = df_results['Uz (m)'] - Uz_end    # Calculation of vertical displacement\n",
    "    df_results['Vertical displacement (cm)'] = df_results['Vertical displacement (m)']*100\n",
    "\n",
    "    df_maxD = df_results['Vertical displacement (cm)'].idxmax()     #finding index of row with max displacement - corresponds to top reservoir\n",
    "    df_next = df_maxD + 1                                               #creating the index of next row after max displacement row\n",
    "    df_results_compaction = df_results.loc[df_maxD:df_next]         # new dataframe with data at the top and base reservoir\n",
    "\n",
    "    Vd_OB = df_results_compaction['Vertical displacement (cm)'].iloc[0]     # extracting the vertical displacement just above res\n",
    "    Vd_UB = df_results_compaction['Vertical displacement (cm)'].iloc[-1]    # extracting the vertical displacement just beow the res\n",
    "    Compaction = Vd_OB - Vd_UB   #calculating reservoir compaction\n",
    "    Compaction_est = Res_thickness*Depletion*Cm*100 \n",
    "    sb_sub = df_results.iloc[0,6]    # sea bed subsidence is the first displacement value calculated for seabed depth\n",
    "    \n",
    "    #outputs:\n",
    "    print('Seabed subsidence: {:.1f} cm'.format(sb_sub))\n",
    "    print('Reservoir compaction: {:.1f} cm'.format(Compaction))\n",
    "    #print('Simplified reservoir compaction estimate: {:.1f} cm'.format(Compaction_est))\n",
    "    return df_results\n",
    "\n",
    "# creating interactive widget ouputs\n",
    "out = widgets.interactive_output(RT, {'TR': TR,'BR': BR,'NGw':NGw,'WD':WD, 'Ew':Ew, 'nuw':nuw,'RR':RR})\n",
    "out2 = widgets.interactive_output(geertsma, {'Base_res': BR,'Top_res': TR,'NG':NGw,'Water_depth':WD, 'E':Ew, 'nu':nuw,'Reservoir_radius':RR, 'e':e, 'intv':intv,'Depletion':D})\n",
    "\n"
   ]
  },
  {
   "cell_type": "code",
   "execution_count": 5,
   "id": "325b0092",
   "metadata": {
    "extensions": {
     "jupyter_dashboards": {
      "version": 1,
      "views": {
       "default_view": {
        "hidden": true
       }
      }
     }
    }
   },
   "outputs": [],
   "source": [
    "# allows function to be run while suppresing printed outputs\n",
    "class HiddenPrints:\n",
    "    def __enter__(self):\n",
    "        self._original_stdout = sys.stdout\n",
    "        sys.stdout = open(os.devnull, 'w')\n",
    "\n",
    "    def __exit__(self, exc_type, exc_val, exc_tb):\n",
    "        sys.stdout.close()\n",
    "        sys.stdout = self._original_stdout\n",
    "\n",
    "# create a plot showing the vertical displacement profile that updates automatically when inputs are changed\n",
    "%matplotlib inline\n",
    "def plot(BR,TR,NGw,WD,Ew,nuw,RR,e,intv,D):\n",
    "    # run function without print to get the results dataframe\n",
    "    with HiddenPrints():\n",
    "        df_results = geertsma(BR,TR,NGw,WD,Ew,nuw,RR,e,intv,D)\n",
    "    \n",
    "    # defining x-y data for sea bed and reservoir depth\n",
    "    #Vd_OB = df_results['Vertical displacement (cm)'].iloc[0]\n",
    "    #Vd_UB = df_results['Vertical displacement (cm)'].iloc[-1]\n",
    "    maxD = df_results['Vertical displacement (cm)'].max()\n",
    "    minD = df_results['Vertical displacement (cm)'].min()\n",
    "        \n",
    "    x = [(minD-2),(maxD+2)]\n",
    "    Seabed_y = (WD,WD)\n",
    "    Res_top_y = (TR,TR)\n",
    "    Res_base_y = (BR, BR)\n",
    "    \n",
    "    # formatting plot\n",
    "    f, ax = plt.subplots(figsize=(4,8))\n",
    "    ax.set_ylim([0,e])   # setting y plot limit between 0 and depth of interest\n",
    "    ax.set_xlim(x)   # setting x plot limit\n",
    "    ax.axhline(y=0, color='darkgrey')    # Adding axis through origin\n",
    "    ax.axvline(x=0, color='darkgrey')    # Adding axis through origin\n",
    "    \n",
    "    # plotting data\n",
    "    ax.plot(x,Seabed_y,color='steelblue', label='Seabed')    # Plotting seabed level    \n",
    "    ax.plot(x,Res_top_y,color='darkorange', label='Top reservoir')    # plotting top res\n",
    "    ax.plot(x,Res_base_y,color='gold', label='Base reservoir')      # plotting base res\n",
    "    ax.plot(df_results['Vertical displacement (cm)'], df_results['Depth'], color='k', label='displacement profile')   # plotting displacement profile\n",
    "    \n",
    "    # formatting plot/data\n",
    "    ax.invert_yaxis()\n",
    "    ax.tick_params(top=True, labeltop=True, bottom=False, labelbottom=False)\n",
    "    ax.set_title('Vertical Displacement Profile')\n",
    "    ax.set_xlabel('Vertical displacement (cm)')\n",
    "    ax.set_ylabel('Depth (TVDMSLm)')\n",
    "    ax.xaxis.set_label_position('top')\n",
    "    ax.legend()\n",
    "    plt.show(block=False)\n",
    "\n",
    "# creating interactive output widget that shows the plot\n",
    "out3 = widgets.interactive_output(plot,{'BR':BR,'TR':TR,'NGw':NGw,'WD':WD,'Ew':Ew,'nuw':nuw,'RR':RR,'e':e,'intv':intv,'D':D })\n"
   ]
  },
  {
   "cell_type": "code",
   "execution_count": 6,
   "id": "ac7f65c8-d527-4af4-bfe6-9905be359f8b",
   "metadata": {},
   "outputs": [],
   "source": [
    "# HTML widgets\n",
    "HTML1 = widgets.HTML(value = '<br> <big> <b>Directory for exporting data <b>')\n",
    "HTML2 = widgets.HTML(value = 'Calculated data exported as .xlsx file')\n",
    "HTML3 = widgets.HTML(value = '<h1> Geertsma subsidence/compaction estimate <h1>')\n",
    "HTML4 = widgets.HTML(value = '<big> <b>User inputs <b>')\n",
    "HTML5 = widgets.HTML(value = '<br> <big> <b>Calculated variables <b>')\n",
    "HTML6 = widgets.HTML(value = '<br> <b>Define data limits <b>')\n",
    "HTML7 = widgets.HTML(value = '<big><b>Show calculated data table <b>')\n",
    "HTML8 = widgets.HTML(value = '<hr>')\n",
    "HTML9 = widgets.HTML(value = '<br> <big><b>Subsidence and reservoir compaction <b>')\n",
    "HTML10 = widgets.HTML(value = '<style> .vl {border-left: 3px solid black; height: 600px ;position: absolute;left: 50%; margin-left: -3px; top: 5;} </style> <div class=\"vl\"></div>')\n",
    "HTML11 = widgets.HTML(value = '<big><b>Data table <br> &nbsp;<b><br> <hr>')"
   ]
  },
  {
   "cell_type": "code",
   "execution_count": 7,
   "id": "0d03907c-a49d-4714-892a-18093fcd4d9f",
   "metadata": {},
   "outputs": [],
   "source": [
    "# create button to save data\n",
    "Savebutton = widgets.Button(description=\"Download data for current inputs\",button_style='info', layout=Layout(width='300px'))\n",
    "output = widgets.Output()\n",
    "\n",
    "# function to run when button is clicked - if clicked it will save data to an excel document with two sheets (one with the inputs and one with the results dataframe)\n",
    "def on_button_clicked(b):\n",
    "    with output:\n",
    "        output.clear_output()\n",
    "        with HiddenPrints(): \n",
    "            df_results = geertsma(BR.value,TR.value,NGw.value,WD.value,Ew.value,nuw.value,RR.value,e.value,intv.value,D.value)\n",
    "            df_variables = variables(TR.value,BR.value,NGw.value,WD.value,Ew.value,nuw.value,RR.value,D.value)\n",
    "        date = datetime.now().strftime(\"%d_%m_%Y_%H-%M-%S\")  \n",
    "        \n",
    "        # define file path - appends, the input from the file path widget, the project name and the date&time\n",
    "        file_name = '{}\\Subsidence_{}_{}.xlsx'.format(File.value,ProjectName.value,date)\n",
    "\n",
    "        # check that file doesn't already exist\n",
    "        check_file = os.path.isfile(file_name)\n",
    "\n",
    "        # if function - will save data if file of assigned name doesn't exist. will throw error message to change project name otherwise\n",
    "        if check_file == True:\n",
    "            print('File already exists with this name, give new project name')\n",
    "        else:\n",
    "            with pd.ExcelWriter(file_name) as writer:\n",
    "                df_variables.to_excel(writer, sheet_name='Variables', index=False)\n",
    "                df_results.to_excel(writer, sheet_name='Data tables',index=False)\n",
    "            print('Results exported to: {}'.format(file_name))\n",
    "\n",
    "# run the on_button_clicked function when button is clicked\n",
    "Savebutton.on_click(functools.partial(on_button_clicked, \\\n",
    "                                 ))\n"
   ]
  },
  {
   "cell_type": "code",
   "execution_count": 8,
   "id": "880407db-4eac-4c6b-865c-ac01d5503944",
   "metadata": {},
   "outputs": [],
   "source": [
    "# Checkbox widget gives the option to show the results dataframe\n",
    "Showdata = widgets.Checkbox(value=False,description='Tick to show data',disabled=False,indent=False)\n",
    "\n",
    "# function that runs with checkbox output\n",
    "def show(Showdata,BR,TR,NGw,WD,Ew,nuw,RR,e,intv,D):\n",
    "    with HiddenPrints(): \n",
    "            df_results = geertsma(BR,TR,NGw,WD,Ew,nuw,RR,e,intv,D)\n",
    "    # format so that whole dataframe is displayed\n",
    "    with pd.option_context('display.max_rows',None,\n",
    "                           'display.max_columns', None,\n",
    "                           'display.precision',2):\n",
    "        if Showdata:\n",
    "            display(HTML11, df_results)\n",
    "            \n",
    "        else:\n",
    "            print('')\n",
    "\n",
    "#interactive widget\n",
    "out7 = widgets.interactive_output(show,{'Showdata':Showdata,'BR':BR,'TR':TR,'NGw':NGw,'WD':WD,'Ew':Ew,'nuw':nuw,'RR':RR,'e':e,'intv':intv,'D':D})"
   ]
  },
  {
   "cell_type": "code",
   "execution_count": 9,
   "id": "f803be7f-9f4f-41ce-92c4-24aca69ec622",
   "metadata": {},
   "outputs": [],
   "source": [
    "# display the interactive widgets to calculate subsidence and compaction\n",
    "#widgets.HBox([widgets.VBox([HTML4,ProjectName,TR, BR, NGw, WD,RR,D,Ew,nuw,HTML6,e,intv, HTML5,out,HTML9, out2, HTML1,HTML2, File,Savebutton,output]), widgets.VBox([HTML7,Showdata,HTML8,out3]),out7])\n"
   ]
  },
  {
   "cell_type": "code",
   "execution_count": 10,
   "id": "9b7bc3ef-7569-40ee-b648-779e8aed370c",
   "metadata": {},
   "outputs": [
    {
     "data": {
      "application/vnd.jupyter.widget-view+json": {
       "model_id": "babdbbbab7444a2b8088edc6b2aec4b7",
       "version_major": 2,
       "version_minor": 0
      },
      "text/plain": [
       "HBox(children=(VBox(children=(HTML(value='<big> <b>User inputs <b>'), Text(value='Project1', description='Proj…"
      ]
     },
     "execution_count": 10,
     "metadata": {},
     "output_type": "execute_result"
    }
   ],
   "source": [
    "# display the interactive widgets to calculate subsidence and compaction\n",
    "firstC = widgets.VBox([HTML4,ProjectName,TR, BR, NGw, WD,RR,D,Ew,nuw,HTML6,e,intv, HTML5,out,HTML9, out2, HTML1,HTML2, File,Savebutton,output],layout=Layout(border='10px solid white',width = '350px'))\n",
    "secondC = widgets.VBox([HTML7,Showdata,HTML8,out3], layout=Layout(border='10px solid white',width = '450px'))\n",
    "thirdC = widgets.VBox([out7],layout=Layout(border='10px solid white',width = '800px'))\n",
    "\n",
    "InteractiveAll = widgets.HBox([firstC,secondC,thirdC],layout=Layout(width = '1600px'))\n",
    "InteractiveAll"
   ]
  },
  {
   "cell_type": "code",
   "execution_count": 11,
   "id": "e61f3a91-44e6-434f-9586-6a7b0d049bab",
   "metadata": {},
   "outputs": [
    {
     "data": {
      "application/vnd.jupyter.widget-view+json": {
       "model_id": "80d9ee22cf9b44c28a1584c724c4334b",
       "version_major": 2,
       "version_minor": 0
      },
      "text/plain": [
       "VBox(children=(IntText(value=5000, continuous_update=True, description='Continuous'), FloatSlider(value=5000.0…"
      ]
     },
     "execution_count": 11,
     "metadata": {},
     "output_type": "execute_result"
    }
   ],
   "source": [
    "radius_widget = widgets.FloatSlider(5000, min=0, max=10000, step=100, description='radius')\n",
    "vol_widget = widgets.FloatSlider(10, min=0, max=50, step=0.1, description='volume')\n",
    "height_widget = widgets.FloatSlider(150, min=0, max=500, step=10, description='height')\n",
    "\n",
    "def on_radius_change(changes):\n",
    "    vol_widget.value = ((changes['new'] ** 2)*math.pi*height_widget.value)/1000000000\n",
    "    #height_widget.value = vol_widget.value/(math.pi * (changes['new'] **2))\n",
    "\n",
    "def on_vol_change(changes):\n",
    "    radius_widget.value = pow((changes['new']*1000000000)/(height_widget.value*math.pi),(1/2))\n",
    "\n",
    "def on_height_change(changes):\n",
    "    vol_widget.value = ((radius_widget.value**2) * changes['new'] * math.pi)/1000000000\n",
    "\n",
    "radius_widget.observe(on_radius_change, 'value')\n",
    "vol_widget.observe(on_vol_change, 'value')\n",
    "height_widget.observe(on_height_change, 'value')\n",
    "\n",
    "d = widgets.IntText(description=\"Continuous\", continuous_update=True)\n",
    "widgets.link((radius_widget,'value'),(d,'value'))\n",
    "\n",
    "widgets.VBox([d,radius_widget, vol_widget, height_widget])"
   ]
  },
  {
   "cell_type": "code",
   "execution_count": null,
   "id": "6af5c339-1e05-4421-ab84-cfe42b2916f7",
   "metadata": {},
   "outputs": [],
   "source": []
  },
  {
   "cell_type": "code",
   "execution_count": null,
   "id": "f3d83d9a-004e-40e2-9c25-688fa5cb7d90",
   "metadata": {},
   "outputs": [],
   "source": []
  },
  {
   "cell_type": "code",
   "execution_count": null,
   "id": "3ae448af-679a-4152-ae29-a56423e9a03d",
   "metadata": {},
   "outputs": [],
   "source": []
  }
 ],
 "metadata": {
  "extensions": {
   "jupyter_dashboards": {
    "activeView": "default_view",
    "version": 1,
    "views": {
     "default_view": {
      "cellMargin": 10,
      "defaultCellHeight": 40,
      "maxColumns": 12,
      "name": "active_view",
      "type": "grid"
     }
    }
   }
  },
  "kernelspec": {
   "display_name": "Python 3 (ipykernel)",
   "language": "python",
   "name": "python3"
  },
  "language_info": {
   "codemirror_mode": {
    "name": "ipython",
    "version": 3
   },
   "file_extension": ".py",
   "mimetype": "text/x-python",
   "name": "python",
   "nbconvert_exporter": "python",
   "pygments_lexer": "ipython3",
   "version": "3.11.6"
  }
 },
 "nbformat": 4,
 "nbformat_minor": 5
}
